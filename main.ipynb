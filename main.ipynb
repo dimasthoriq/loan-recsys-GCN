{
 "cells": [
  {
   "cell_type": "code",
   "id": "initial_id",
   "metadata": {
    "collapsed": true,
    "ExecuteTime": {
     "end_time": "2024-11-23T07:02:44.773828Z",
     "start_time": "2024-11-23T07:02:39.279823Z"
    }
   },
   "source": [
    "import numpy as np\n",
    "import pandas as pd\n",
    "import matplotlib.pyplot as plt\n",
    "import torch\n",
    "\n",
    "from utils import get_data\n",
    "print(torch.cuda.is_available())"
   ],
   "outputs": [
    {
     "name": "stdout",
     "output_type": "stream",
     "text": [
      "True\n"
     ]
    }
   ],
   "execution_count": 1
  },
  {
   "metadata": {
    "ExecuteTime": {
     "end_time": "2024-11-23T07:02:46.467003Z",
     "start_time": "2024-11-23T07:02:44.774842Z"
    }
   },
   "cell_type": "code",
   "source": [
    "path = './prosperLoanData.csv'\n",
    "k=9\n",
    "data = get_data(path, k=k)"
   ],
   "id": "71b537d12686ff49",
   "outputs": [
    {
     "name": "stdout",
     "output_type": "stream",
     "text": [
      "Training acc: 0.9996\n",
      "Training conf matrix: [[17700     0]\n",
      " [    9  5320]]\n"
     ]
    }
   ],
   "execution_count": 2
  },
  {
   "metadata": {
    "ExecuteTime": {
     "end_time": "2024-11-23T07:03:21.380796Z",
     "start_time": "2024-11-23T07:03:21.361796Z"
    }
   },
   "cell_type": "code",
   "source": "data.head()",
   "id": "daf169f820f69353",
   "outputs": [
    {
     "data": {
      "text/plain": [
       "   LoanKey MemberKey      Term  BorrowerRate  LenderYield  \\\n",
       "15     i12       u12 -0.574149      1.681937     1.719719   \n",
       "23     i18       u18 -0.574149      0.656200     0.696186   \n",
       "26     i21       u21  1.474971      1.183954     1.155581   \n",
       "27     i22       u22 -0.574149     -1.372269    -1.483500   \n",
       "30     i25       u25 -0.574149     -1.265365    -1.483500   \n",
       "\n",
       "    EstimatedEffectiveYield  EstimatedLoss  EstimatedReturn  \\\n",
       "15                 1.825192       1.880974         0.980611   \n",
       "23                 0.682534       0.629259         0.328283   \n",
       "26                 1.197472       0.955794         0.987302   \n",
       "27                -1.570135      -1.253756        -1.153675   \n",
       "30                -1.141267      -0.883683        -1.458095   \n",
       "\n",
       "    ProsperRating (numeric)  ProsperScore  ...  InvestmentFromFriendsAmount  \\\n",
       "15                -1.888061     -0.449555  ...                    -0.034066   \n",
       "23                -0.682340     -0.449555  ...                    -0.034066   \n",
       "26                -1.285200     -1.296151  ...                    -0.034066   \n",
       "27                 1.126242      1.243637  ...                    -0.034066   \n",
       "30                 1.126242      1.243637  ...                    -0.034066   \n",
       "\n",
       "    Investors  finished      risk  EmploymentStatus_Full-time  \\\n",
       "15  -0.607892         1  0.999076                       False   \n",
       "23  -0.402626         1  0.999076                       False   \n",
       "26  -0.330783         1  0.001322                       False   \n",
       "27   0.531334         1  0.001322                        True   \n",
       "30  -0.402626         1  0.001322                       False   \n",
       "\n",
       "    EmploymentStatus_Not employed  EmploymentStatus_Other  \\\n",
       "15                          False                    True   \n",
       "23                          False                   False   \n",
       "26                          False                   False   \n",
       "27                          False                   False   \n",
       "30                          False                   False   \n",
       "\n",
       "    EmploymentStatus_Part-time  EmploymentStatus_Retired  \\\n",
       "15                       False                     False   \n",
       "23                       False                     False   \n",
       "26                       False                     False   \n",
       "27                       False                     False   \n",
       "30                       False                     False   \n",
       "\n",
       "    EmploymentStatus_Self-employed  \n",
       "15                           False  \n",
       "23                           False  \n",
       "26                           False  \n",
       "27                           False  \n",
       "30                           False  \n",
       "\n",
       "[5 rows x 36 columns]"
      ],
      "text/html": [
       "<div>\n",
       "<style scoped>\n",
       "    .dataframe tbody tr th:only-of-type {\n",
       "        vertical-align: middle;\n",
       "    }\n",
       "\n",
       "    .dataframe tbody tr th {\n",
       "        vertical-align: top;\n",
       "    }\n",
       "\n",
       "    .dataframe thead th {\n",
       "        text-align: right;\n",
       "    }\n",
       "</style>\n",
       "<table border=\"1\" class=\"dataframe\">\n",
       "  <thead>\n",
       "    <tr style=\"text-align: right;\">\n",
       "      <th></th>\n",
       "      <th>LoanKey</th>\n",
       "      <th>MemberKey</th>\n",
       "      <th>Term</th>\n",
       "      <th>BorrowerRate</th>\n",
       "      <th>LenderYield</th>\n",
       "      <th>EstimatedEffectiveYield</th>\n",
       "      <th>EstimatedLoss</th>\n",
       "      <th>EstimatedReturn</th>\n",
       "      <th>ProsperRating (numeric)</th>\n",
       "      <th>ProsperScore</th>\n",
       "      <th>...</th>\n",
       "      <th>InvestmentFromFriendsAmount</th>\n",
       "      <th>Investors</th>\n",
       "      <th>finished</th>\n",
       "      <th>risk</th>\n",
       "      <th>EmploymentStatus_Full-time</th>\n",
       "      <th>EmploymentStatus_Not employed</th>\n",
       "      <th>EmploymentStatus_Other</th>\n",
       "      <th>EmploymentStatus_Part-time</th>\n",
       "      <th>EmploymentStatus_Retired</th>\n",
       "      <th>EmploymentStatus_Self-employed</th>\n",
       "    </tr>\n",
       "  </thead>\n",
       "  <tbody>\n",
       "    <tr>\n",
       "      <th>15</th>\n",
       "      <td>i12</td>\n",
       "      <td>u12</td>\n",
       "      <td>-0.574149</td>\n",
       "      <td>1.681937</td>\n",
       "      <td>1.719719</td>\n",
       "      <td>1.825192</td>\n",
       "      <td>1.880974</td>\n",
       "      <td>0.980611</td>\n",
       "      <td>-1.888061</td>\n",
       "      <td>-0.449555</td>\n",
       "      <td>...</td>\n",
       "      <td>-0.034066</td>\n",
       "      <td>-0.607892</td>\n",
       "      <td>1</td>\n",
       "      <td>0.999076</td>\n",
       "      <td>False</td>\n",
       "      <td>False</td>\n",
       "      <td>True</td>\n",
       "      <td>False</td>\n",
       "      <td>False</td>\n",
       "      <td>False</td>\n",
       "    </tr>\n",
       "    <tr>\n",
       "      <th>23</th>\n",
       "      <td>i18</td>\n",
       "      <td>u18</td>\n",
       "      <td>-0.574149</td>\n",
       "      <td>0.656200</td>\n",
       "      <td>0.696186</td>\n",
       "      <td>0.682534</td>\n",
       "      <td>0.629259</td>\n",
       "      <td>0.328283</td>\n",
       "      <td>-0.682340</td>\n",
       "      <td>-0.449555</td>\n",
       "      <td>...</td>\n",
       "      <td>-0.034066</td>\n",
       "      <td>-0.402626</td>\n",
       "      <td>1</td>\n",
       "      <td>0.999076</td>\n",
       "      <td>False</td>\n",
       "      <td>False</td>\n",
       "      <td>False</td>\n",
       "      <td>False</td>\n",
       "      <td>False</td>\n",
       "      <td>False</td>\n",
       "    </tr>\n",
       "    <tr>\n",
       "      <th>26</th>\n",
       "      <td>i21</td>\n",
       "      <td>u21</td>\n",
       "      <td>1.474971</td>\n",
       "      <td>1.183954</td>\n",
       "      <td>1.155581</td>\n",
       "      <td>1.197472</td>\n",
       "      <td>0.955794</td>\n",
       "      <td>0.987302</td>\n",
       "      <td>-1.285200</td>\n",
       "      <td>-1.296151</td>\n",
       "      <td>...</td>\n",
       "      <td>-0.034066</td>\n",
       "      <td>-0.330783</td>\n",
       "      <td>1</td>\n",
       "      <td>0.001322</td>\n",
       "      <td>False</td>\n",
       "      <td>False</td>\n",
       "      <td>False</td>\n",
       "      <td>False</td>\n",
       "      <td>False</td>\n",
       "      <td>False</td>\n",
       "    </tr>\n",
       "    <tr>\n",
       "      <th>27</th>\n",
       "      <td>i22</td>\n",
       "      <td>u22</td>\n",
       "      <td>-0.574149</td>\n",
       "      <td>-1.372269</td>\n",
       "      <td>-1.483500</td>\n",
       "      <td>-1.570135</td>\n",
       "      <td>-1.253756</td>\n",
       "      <td>-1.153675</td>\n",
       "      <td>1.126242</td>\n",
       "      <td>1.243637</td>\n",
       "      <td>...</td>\n",
       "      <td>-0.034066</td>\n",
       "      <td>0.531334</td>\n",
       "      <td>1</td>\n",
       "      <td>0.001322</td>\n",
       "      <td>True</td>\n",
       "      <td>False</td>\n",
       "      <td>False</td>\n",
       "      <td>False</td>\n",
       "      <td>False</td>\n",
       "      <td>False</td>\n",
       "    </tr>\n",
       "    <tr>\n",
       "      <th>30</th>\n",
       "      <td>i25</td>\n",
       "      <td>u25</td>\n",
       "      <td>-0.574149</td>\n",
       "      <td>-1.265365</td>\n",
       "      <td>-1.483500</td>\n",
       "      <td>-1.141267</td>\n",
       "      <td>-0.883683</td>\n",
       "      <td>-1.458095</td>\n",
       "      <td>1.126242</td>\n",
       "      <td>1.243637</td>\n",
       "      <td>...</td>\n",
       "      <td>-0.034066</td>\n",
       "      <td>-0.402626</td>\n",
       "      <td>1</td>\n",
       "      <td>0.001322</td>\n",
       "      <td>False</td>\n",
       "      <td>False</td>\n",
       "      <td>False</td>\n",
       "      <td>False</td>\n",
       "      <td>False</td>\n",
       "      <td>False</td>\n",
       "    </tr>\n",
       "  </tbody>\n",
       "</table>\n",
       "<p>5 rows × 36 columns</p>\n",
       "</div>"
      ]
     },
     "execution_count": 3,
     "metadata": {},
     "output_type": "execute_result"
    }
   ],
   "execution_count": 3
  },
  {
   "metadata": {
    "ExecuteTime": {
     "end_time": "2024-11-23T07:10:42.381198Z",
     "start_time": "2024-11-23T07:10:37.864636Z"
    }
   },
   "cell_type": "code",
   "source": [
    "# Create a matrix of investor-loan interactions\n",
    "member_mapping = {member: idx for idx, member in enumerate(data['MemberKey'].unique())}\n",
    "loan_mapping = {loan: idx for idx, loan in enumerate(data['LoanKey'].unique())}\n",
    "\n",
    "n = len(member_mapping)\n",
    "m = len(loan_mapping)\n",
    "A = np.zeros((n, m), dtype=int)\n",
    "\n",
    "# Fill the matrix using the mappings\n",
    "for _, row in data.iterrows():\n",
    "    member_idx = member_mapping[row['MemberKey']]\n",
    "    loan_idx = loan_mapping[row['LoanKey']]\n",
    "    A[member_idx, loan_idx] = 1"
   ],
   "id": "c5bca12a16183981",
   "outputs": [],
   "execution_count": 8
  },
  {
   "metadata": {
    "ExecuteTime": {
     "end_time": "2024-11-23T07:17:32.847483Z",
     "start_time": "2024-11-23T07:17:29.029058Z"
    }
   },
   "cell_type": "code",
   "source": [
    "# Create a matrix of loan-risk interactions\n",
    "risk_mapping = {risk: idx for idx, risk in enumerate(data['risk'].unique())}\n",
    "p = len(risk_mapping)\n",
    "\n",
    "P = np.zeros((m, p), dtype=int)\n",
    "\n",
    "# Fill the matrix using the mappings\n",
    "for _, row in data.iterrows():\n",
    "    loan_idx = loan_mapping[row['LoanKey']]\n",
    "    risk_idx = risk_mapping[row['risk']]\n",
    "    P[loan_idx, risk_idx] = 1\n",
    "\n",
    "# Create a matrix of loan-returns interactions\n",
    "return_mapping = {ret: idx for idx, ret in enumerate(data['LenderYield'].unique())}\n",
    "q = len(return_mapping)\n",
    "\n",
    "Q = np.zeros((m, q), dtype=int)\n",
    "\n",
    "# Fill the matrix using the mappings\n",
    "for _, row in data.iterrows():\n",
    "    loan_idx = loan_mapping[row['LoanKey']]\n",
    "    return_idx = return_mapping[row['LenderYield']]\n",
    "    Q[loan_idx, return_idx] = 1"
   ],
   "id": "859cb4c7ece08ec2",
   "outputs": [],
   "execution_count": 12
  },
  {
   "metadata": {
    "ExecuteTime": {
     "end_time": "2024-11-23T07:19:40.087688Z",
     "start_time": "2024-11-23T07:19:40.060737Z"
    }
   },
   "cell_type": "code",
   "source": [
    "U = data['MemberKey'].unique()\n",
    "I = data['LoanKey'].unique()\n",
    "S = data['risk'].unique()\n",
    "T = data['LenderYield'].unique()"
   ],
   "id": "a396508c22bc90f5",
   "outputs": [],
   "execution_count": 14
  },
  {
   "metadata": {
    "ExecuteTime": {
     "end_time": "2024-11-23T07:27:27.949682Z",
     "start_time": "2024-11-23T07:27:27.928681Z"
    }
   },
   "cell_type": "code",
   "source": "S",
   "id": "e9aa64b73796ac",
   "outputs": [
    {
     "data": {
      "text/plain": [
       "array([0.99907587, 0.00132206, 0.9496424 , 0.74269035, 0.86835363,\n",
       "       0.59295706, 0.24902838, 0.09793692, 0.43852724])"
      ]
     },
     "execution_count": 15,
     "metadata": {},
     "output_type": "execute_result"
    }
   ],
   "execution_count": 15
  },
  {
   "metadata": {},
   "cell_type": "code",
   "outputs": [],
   "execution_count": null,
   "source": "",
   "id": "a2e541ebaa6d38a1"
  }
 ],
 "metadata": {
  "kernelspec": {
   "display_name": "Python 3",
   "language": "python",
   "name": "python3"
  },
  "language_info": {
   "codemirror_mode": {
    "name": "ipython",
    "version": 2
   },
   "file_extension": ".py",
   "mimetype": "text/x-python",
   "name": "python",
   "nbconvert_exporter": "python",
   "pygments_lexer": "ipython2",
   "version": "2.7.6"
  }
 },
 "nbformat": 4,
 "nbformat_minor": 5
}
